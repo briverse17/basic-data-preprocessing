{
  "nbformat": 4,
  "nbformat_minor": 0,
  "metadata": {
    "colab": {
      "name": "Untitled0.ipynb",
      "provenance": [],
      "authorship_tag": "ABX9TyPpg+4HzulxtOIQj6Vc6vbE",
      "include_colab_link": true
    },
    "kernelspec": {
      "name": "python3",
      "display_name": "Python 3"
    }
  },
  "cells": [
    {
      "cell_type": "markdown",
      "metadata": {
        "id": "view-in-github",
        "colab_type": "text"
      },
      "source": [
        "<a href=\"https://colab.research.google.com/github/briverse17/basic-data-preprocessing/blob/master/basic-data-preprocessing.ipynb\" target=\"_parent\"><img src=\"https://colab.research.google.com/assets/colab-badge.svg\" alt=\"Open In Colab\"/></a>"
      ]
    },
    {
      "cell_type": "markdown",
      "metadata": {
        "id": "8SBaa04YIl45",
        "colab_type": "text"
      },
      "source": [
        "# **Basic Data Pre-processing Demo Notebook**"
      ]
    },
    {
      "cell_type": "markdown",
      "metadata": {
        "id": "oWUmjOQ0NfTo",
        "colab_type": "text"
      },
      "source": [
        "## **0. Importing and loading data set**"
      ]
    },
    {
      "cell_type": "code",
      "metadata": {
        "id": "ADED3uajOD0q",
        "colab_type": "code",
        "colab": {}
      },
      "source": [
        "import pandas as pd\n",
        "import numpy as np\n",
        "import matplotlib.pyplot as plt"
      ],
      "execution_count": 0,
      "outputs": []
    },
    {
      "cell_type": "code",
      "metadata": {
        "id": "xp0iGt2xP14S",
        "colab_type": "code",
        "colab": {}
      },
      "source": [
        "company = pd.read_csv('https://raw.githubusercontent.com/briverse17/basic-data-preprocessing/master/sun_consultant.csv', sep=\",\")\n",
        "print(company)"
      ],
      "execution_count": 0,
      "outputs": []
    },
    {
      "cell_type": "code",
      "metadata": {
        "id": "IhildgCKQP85",
        "colab_type": "code",
        "colab": {}
      },
      "source": [
        "company.describe()"
      ],
      "execution_count": 0,
      "outputs": []
    },
    {
      "cell_type": "markdown",
      "metadata": {
        "id": "V_KHal01Mtg7",
        "colab_type": "text"
      },
      "source": [
        "## **1.Data Scaling**"
      ]
    },
    {
      "cell_type": "markdown",
      "metadata": {
        "id": "prlXS4MaM4l4",
        "colab_type": "text"
      },
      "source": [
        "### a) Standardization (z-score scaling)\n",
        "![zscore.png](data:image/png;base64,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)"
      ]
    },
    {
      "cell_type": "code",
      "metadata": {
        "id": "eZ0YnlK5RCoB",
        "colab_type": "code",
        "colab": {}
      },
      "source": [
        "def zscore_scaling(df, features):\n",
        "    '''\n",
        "      This funtion perform z-score scaling on specific feature(s) of a dataframe\n",
        "\n",
        "      Parameters:\n",
        "        df: the pandas dataframe to be changed\n",
        "        features: the features to be z-score scaled\n",
        "    '''\n",
        "    "
      ],
      "execution_count": 0,
      "outputs": []
    },
    {
      "cell_type": "markdown",
      "metadata": {
        "id": "cETxiOk2JwFm",
        "colab_type": "text"
      },
      "source": [
        "## **Outline**\n",
        "### **1. Data Scaling**\n",
        "a)   Standardization (z-score scaling)\n",
        "\n",
        "b)   Normalization (min-max scaling)\n",
        "\n",
        "### **2. Data Binning**\n",
        "a)   Equal Depth Binning\n",
        "\n",
        "b)   Equal Width Binning\n",
        "\n",
        "### **3. Dealing with missing data**\n",
        "a)   Remove missing instances\n",
        "\n",
        "b)   Fill missing instances\n",
        "\n",
        "\n"
      ]
    }
  ]
}