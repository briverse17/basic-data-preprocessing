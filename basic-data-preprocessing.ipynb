{
  "nbformat": 4,
  "nbformat_minor": 0,
  "metadata": {
    "colab": {
      "name": "Untitled0.ipynb",
      "provenance": [],
      "authorship_tag": "ABX9TyMGblRYsYnaiPQOtfbkpA30",
      "include_colab_link": true
    },
    "kernelspec": {
      "name": "python3",
      "display_name": "Python 3"
    }
  },
  "cells": [
    {
      "cell_type": "markdown",
      "metadata": {
        "id": "view-in-github",
        "colab_type": "text"
      },
      "source": [
        "<a href=\"https://colab.research.google.com/github/briverse17/basic-data-preprocessing/blob/master/basic-data-preprocessing.ipynb\" target=\"_parent\"><img src=\"https://colab.research.google.com/assets/colab-badge.svg\" alt=\"Open In Colab\"/></a>"
      ]
    },
    {
      "cell_type": "markdown",
      "metadata": {
        "id": "8SBaa04YIl45",
        "colab_type": "text"
      },
      "source": [
        "# **Basic Data Pre-processing Demo Notebook**"
      ]
    },
    {
      "cell_type": "markdown",
      "metadata": {
        "id": "oWUmjOQ0NfTo",
        "colab_type": "text"
      },
      "source": [
        "## **0. Importing and loading data set**"
      ]
    },
    {
      "cell_type": "code",
      "metadata": {
        "id": "ADED3uajOD0q",
        "colab_type": "code",
        "colab": {}
      },
      "source": [
        "import pandas as pd\n",
        "import numpy as np\n",
        "import matplotlib.pyplot as plt"
      ],
      "execution_count": 0,
      "outputs": []
    },
    {
      "cell_type": "code",
      "metadata": {
        "id": "xp0iGt2xP14S",
        "colab_type": "code",
        "colab": {
          "base_uri": "https://localhost:8080/",
          "height": 669
        },
        "outputId": "8f5df745-5e3f-421c-9299-89662b66bcbd"
      },
      "source": [
        "company = pd.read_csv('https://raw.githubusercontent.com/briverse17/basic-data-preprocessing/master/sun_consultant.csv', sep=\",\")\n",
        "company"
      ],
      "execution_count": 3,
      "outputs": [
        {
          "output_type": "execute_result",
          "data": {
            "text/html": [
              "<div>\n",
              "<style scoped>\n",
              "    .dataframe tbody tr th:only-of-type {\n",
              "        vertical-align: middle;\n",
              "    }\n",
              "\n",
              "    .dataframe tbody tr th {\n",
              "        vertical-align: top;\n",
              "    }\n",
              "\n",
              "    .dataframe thead th {\n",
              "        text-align: right;\n",
              "    }\n",
              "</style>\n",
              "<table border=\"1\" class=\"dataframe\">\n",
              "  <thead>\n",
              "    <tr style=\"text-align: right;\">\n",
              "      <th></th>\n",
              "      <th>Id</th>\n",
              "      <th>Name</th>\n",
              "      <th>Age</th>\n",
              "      <th>Salary</th>\n",
              "      <th>Presence</th>\n",
              "      <th>Level</th>\n",
              "    </tr>\n",
              "  </thead>\n",
              "  <tbody>\n",
              "    <tr>\n",
              "      <th>0</th>\n",
              "      <td>1</td>\n",
              "      <td>Doro</td>\n",
              "      <td>21.0</td>\n",
              "      <td>2000.0</td>\n",
              "      <td>26.0</td>\n",
              "      <td>C</td>\n",
              "    </tr>\n",
              "    <tr>\n",
              "      <th>1</th>\n",
              "      <td>2</td>\n",
              "      <td>Nour</td>\n",
              "      <td>22.0</td>\n",
              "      <td>NaN</td>\n",
              "      <td>25.0</td>\n",
              "      <td>B</td>\n",
              "    </tr>\n",
              "    <tr>\n",
              "      <th>2</th>\n",
              "      <td>3</td>\n",
              "      <td>Van</td>\n",
              "      <td>23.0</td>\n",
              "      <td>1850.0</td>\n",
              "      <td>24.5</td>\n",
              "      <td>C</td>\n",
              "    </tr>\n",
              "    <tr>\n",
              "      <th>3</th>\n",
              "      <td>4</td>\n",
              "      <td>Doosung</td>\n",
              "      <td>NaN</td>\n",
              "      <td>NaN</td>\n",
              "      <td>24.0</td>\n",
              "      <td>B</td>\n",
              "    </tr>\n",
              "    <tr>\n",
              "      <th>4</th>\n",
              "      <td>5</td>\n",
              "      <td>Liam Chen</td>\n",
              "      <td>18.0</td>\n",
              "      <td>2280.0</td>\n",
              "      <td>25.0</td>\n",
              "      <td>B</td>\n",
              "    </tr>\n",
              "    <tr>\n",
              "      <th>5</th>\n",
              "      <td>6</td>\n",
              "      <td>Matt</td>\n",
              "      <td>19.0</td>\n",
              "      <td>1500.0</td>\n",
              "      <td>26.5</td>\n",
              "      <td>A</td>\n",
              "    </tr>\n",
              "    <tr>\n",
              "      <th>6</th>\n",
              "      <td>7</td>\n",
              "      <td>Tom</td>\n",
              "      <td>27.0</td>\n",
              "      <td>1500.0</td>\n",
              "      <td>27.0</td>\n",
              "      <td>A</td>\n",
              "    </tr>\n",
              "    <tr>\n",
              "      <th>7</th>\n",
              "      <td>8</td>\n",
              "      <td>Harry</td>\n",
              "      <td>30.0</td>\n",
              "      <td>2200.0</td>\n",
              "      <td>28.0</td>\n",
              "      <td>NaN</td>\n",
              "    </tr>\n",
              "    <tr>\n",
              "      <th>8</th>\n",
              "      <td>9</td>\n",
              "      <td>Tokuda</td>\n",
              "      <td>24.0</td>\n",
              "      <td>1000.0</td>\n",
              "      <td>18.0</td>\n",
              "      <td>C</td>\n",
              "    </tr>\n",
              "    <tr>\n",
              "      <th>9</th>\n",
              "      <td>10</td>\n",
              "      <td>Bobby</td>\n",
              "      <td>15.0</td>\n",
              "      <td>1000.0</td>\n",
              "      <td>18.0</td>\n",
              "      <td>C</td>\n",
              "    </tr>\n",
              "    <tr>\n",
              "      <th>10</th>\n",
              "      <td>11</td>\n",
              "      <td>Xiaowen</td>\n",
              "      <td>16.0</td>\n",
              "      <td>2640.0</td>\n",
              "      <td>28.0</td>\n",
              "      <td>B</td>\n",
              "    </tr>\n",
              "    <tr>\n",
              "      <th>11</th>\n",
              "      <td>12</td>\n",
              "      <td>Orod</td>\n",
              "      <td>25.0</td>\n",
              "      <td>1000.0</td>\n",
              "      <td>14.0</td>\n",
              "      <td>NaN</td>\n",
              "    </tr>\n",
              "    <tr>\n",
              "      <th>12</th>\n",
              "      <td>13</td>\n",
              "      <td>Vu Nguyen</td>\n",
              "      <td>21.0</td>\n",
              "      <td>NaN</td>\n",
              "      <td>24.5</td>\n",
              "      <td>C</td>\n",
              "    </tr>\n",
              "    <tr>\n",
              "      <th>13</th>\n",
              "      <td>14</td>\n",
              "      <td>Trieu Nguyen</td>\n",
              "      <td>20.0</td>\n",
              "      <td>2160.0</td>\n",
              "      <td>24.0</td>\n",
              "      <td>B</td>\n",
              "    </tr>\n",
              "    <tr>\n",
              "      <th>14</th>\n",
              "      <td>15</td>\n",
              "      <td>Tuyet Nguyen</td>\n",
              "      <td>20.0</td>\n",
              "      <td>NaN</td>\n",
              "      <td>24.0</td>\n",
              "      <td>B</td>\n",
              "    </tr>\n",
              "    <tr>\n",
              "      <th>15</th>\n",
              "      <td>16</td>\n",
              "      <td>Kevin</td>\n",
              "      <td>38.0</td>\n",
              "      <td>1500.0</td>\n",
              "      <td>28.0</td>\n",
              "      <td>A</td>\n",
              "    </tr>\n",
              "    <tr>\n",
              "      <th>16</th>\n",
              "      <td>17</td>\n",
              "      <td>Liam Cheng</td>\n",
              "      <td>NaN</td>\n",
              "      <td>1450.0</td>\n",
              "      <td>20.5</td>\n",
              "      <td>NaN</td>\n",
              "    </tr>\n",
              "    <tr>\n",
              "      <th>17</th>\n",
              "      <td>18</td>\n",
              "      <td>Jason</td>\n",
              "      <td>NaN</td>\n",
              "      <td>1500.0</td>\n",
              "      <td>18.0</td>\n",
              "      <td>A</td>\n",
              "    </tr>\n",
              "    <tr>\n",
              "      <th>18</th>\n",
              "      <td>19</td>\n",
              "      <td>Akira</td>\n",
              "      <td>23.0</td>\n",
              "      <td>2100.0</td>\n",
              "      <td>27.0</td>\n",
              "      <td>C</td>\n",
              "    </tr>\n",
              "    <tr>\n",
              "      <th>19</th>\n",
              "      <td>20</td>\n",
              "      <td>Tom</td>\n",
              "      <td>19.0</td>\n",
              "      <td>2520.0</td>\n",
              "      <td>27.0</td>\n",
              "      <td>B</td>\n",
              "    </tr>\n",
              "  </tbody>\n",
              "</table>\n",
              "</div>"
            ],
            "text/plain": [
              "    Id          Name   Age  Salary  Presence Level\n",
              "0    1          Doro  21.0  2000.0      26.0     C\n",
              "1    2          Nour  22.0     NaN      25.0     B\n",
              "2    3           Van  23.0  1850.0      24.5     C\n",
              "3    4       Doosung   NaN     NaN      24.0     B\n",
              "4    5     Liam Chen  18.0  2280.0      25.0     B\n",
              "5    6          Matt  19.0  1500.0      26.5     A\n",
              "6    7           Tom  27.0  1500.0      27.0     A\n",
              "7    8         Harry  30.0  2200.0      28.0   NaN\n",
              "8    9        Tokuda  24.0  1000.0      18.0     C\n",
              "9   10         Bobby  15.0  1000.0      18.0     C\n",
              "10  11       Xiaowen  16.0  2640.0      28.0     B\n",
              "11  12          Orod  25.0  1000.0      14.0   NaN\n",
              "12  13     Vu Nguyen  21.0     NaN      24.5     C\n",
              "13  14  Trieu Nguyen  20.0  2160.0      24.0     B\n",
              "14  15  Tuyet Nguyen  20.0     NaN      24.0     B\n",
              "15  16         Kevin  38.0  1500.0      28.0     A\n",
              "16  17    Liam Cheng   NaN  1450.0      20.5   NaN\n",
              "17  18         Jason   NaN  1500.0      18.0     A\n",
              "18  19         Akira  23.0  2100.0      27.0     C\n",
              "19  20           Tom  19.0  2520.0      27.0     B"
            ]
          },
          "metadata": {
            "tags": []
          },
          "execution_count": 3
        }
      ]
    },
    {
      "cell_type": "code",
      "metadata": {
        "id": "IhildgCKQP85",
        "colab_type": "code",
        "colab": {
          "base_uri": "https://localhost:8080/",
          "height": 297
        },
        "outputId": "270d5069-9774-42ef-a116-859afe89786d"
      },
      "source": [
        "company.describe()"
      ],
      "execution_count": 4,
      "outputs": [
        {
          "output_type": "execute_result",
          "data": {
            "text/html": [
              "<div>\n",
              "<style scoped>\n",
              "    .dataframe tbody tr th:only-of-type {\n",
              "        vertical-align: middle;\n",
              "    }\n",
              "\n",
              "    .dataframe tbody tr th {\n",
              "        vertical-align: top;\n",
              "    }\n",
              "\n",
              "    .dataframe thead th {\n",
              "        text-align: right;\n",
              "    }\n",
              "</style>\n",
              "<table border=\"1\" class=\"dataframe\">\n",
              "  <thead>\n",
              "    <tr style=\"text-align: right;\">\n",
              "      <th></th>\n",
              "      <th>Id</th>\n",
              "      <th>Age</th>\n",
              "      <th>Salary</th>\n",
              "      <th>Presence</th>\n",
              "    </tr>\n",
              "  </thead>\n",
              "  <tbody>\n",
              "    <tr>\n",
              "      <th>count</th>\n",
              "      <td>20.00000</td>\n",
              "      <td>17.000000</td>\n",
              "      <td>16.000000</td>\n",
              "      <td>20.000000</td>\n",
              "    </tr>\n",
              "    <tr>\n",
              "      <th>mean</th>\n",
              "      <td>10.50000</td>\n",
              "      <td>22.411765</td>\n",
              "      <td>1762.500000</td>\n",
              "      <td>23.850000</td>\n",
              "    </tr>\n",
              "    <tr>\n",
              "      <th>std</th>\n",
              "      <td>5.91608</td>\n",
              "      <td>5.512019</td>\n",
              "      <td>532.697538</td>\n",
              "      <td>4.023287</td>\n",
              "    </tr>\n",
              "    <tr>\n",
              "      <th>min</th>\n",
              "      <td>1.00000</td>\n",
              "      <td>15.000000</td>\n",
              "      <td>1000.000000</td>\n",
              "      <td>14.000000</td>\n",
              "    </tr>\n",
              "    <tr>\n",
              "      <th>25%</th>\n",
              "      <td>5.75000</td>\n",
              "      <td>19.000000</td>\n",
              "      <td>1487.500000</td>\n",
              "      <td>23.125000</td>\n",
              "    </tr>\n",
              "    <tr>\n",
              "      <th>50%</th>\n",
              "      <td>10.50000</td>\n",
              "      <td>21.000000</td>\n",
              "      <td>1675.000000</td>\n",
              "      <td>24.750000</td>\n",
              "    </tr>\n",
              "    <tr>\n",
              "      <th>75%</th>\n",
              "      <td>15.25000</td>\n",
              "      <td>24.000000</td>\n",
              "      <td>2170.000000</td>\n",
              "      <td>27.000000</td>\n",
              "    </tr>\n",
              "    <tr>\n",
              "      <th>max</th>\n",
              "      <td>20.00000</td>\n",
              "      <td>38.000000</td>\n",
              "      <td>2640.000000</td>\n",
              "      <td>28.000000</td>\n",
              "    </tr>\n",
              "  </tbody>\n",
              "</table>\n",
              "</div>"
            ],
            "text/plain": [
              "             Id        Age       Salary   Presence\n",
              "count  20.00000  17.000000    16.000000  20.000000\n",
              "mean   10.50000  22.411765  1762.500000  23.850000\n",
              "std     5.91608   5.512019   532.697538   4.023287\n",
              "min     1.00000  15.000000  1000.000000  14.000000\n",
              "25%     5.75000  19.000000  1487.500000  23.125000\n",
              "50%    10.50000  21.000000  1675.000000  24.750000\n",
              "75%    15.25000  24.000000  2170.000000  27.000000\n",
              "max    20.00000  38.000000  2640.000000  28.000000"
            ]
          },
          "metadata": {
            "tags": []
          },
          "execution_count": 4
        }
      ]
    },
    {
      "cell_type": "markdown",
      "metadata": {
        "id": "V_KHal01Mtg7",
        "colab_type": "text"
      },
      "source": [
        "## **1.Data Scaling**"
      ]
    },
    {
      "cell_type": "markdown",
      "metadata": {
        "id": "prlXS4MaM4l4",
        "colab_type": "text"
      },
      "source": [
        "### a) Standardization (z-score scaling)\n",
        "![zscore.png](data:image/png;base64,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)"
      ]
    },
    {
      "cell_type": "code",
      "metadata": {
        "id": "eZ0YnlK5RCoB",
        "colab_type": "code",
        "colab": {}
      },
      "source": [
        "def zscore_scaling(feature):\n",
        "  '''\n",
        "    This funtion performs z-score scaling on a specific feature of a pandas dataframe\n",
        "    ---\n",
        "    Args:\n",
        "      feature: a pandas dataframe column to be z-score scaled\n",
        "    ---\n",
        "    Return:\n",
        "      z-score scaled feature\n",
        "  '''\n",
        "  mean = feature.mean()\n",
        "  std = feature.std()\n",
        "  return feature.apply(lambda x:(x-mean)/std)\n",
        "\n",
        "def zscore_scaling_multiple(feature_list):\n",
        "  return [zscore_scaling(x) for x in feature_list]"
      ],
      "execution_count": 0,
      "outputs": []
    },
    {
      "cell_type": "code",
      "metadata": {
        "id": "5tY0OYtlAtQ9",
        "colab_type": "code",
        "colab": {}
      },
      "source": [
        "res = zscore_scaling_multiple([company[\"Age\"], company[\"Salary\"]])"
      ],
      "execution_count": 0,
      "outputs": []
    },
    {
      "cell_type": "code",
      "metadata": {
        "id": "7DE4psY_Xzpm",
        "colab_type": "code",
        "colab": {}
      },
      "source": [
        "def draw_histograms(feature):\n",
        "  plt.figure(figsize = (20,4))\n",
        "  plt.subplot(1, 3, 1)\n",
        "  plt.title(feature.name)\n",
        "  histogram = feature.hist(bins=50)"
      ],
      "execution_count": 0,
      "outputs": []
    },
    {
      "cell_type": "code",
      "metadata": {
        "id": "vtelVs7SYmz9",
        "colab_type": "code",
        "colab": {
          "base_uri": "https://localhost:8080/",
          "height": 809
        },
        "outputId": "7628e52d-a1d6-4aeb-a378-8b22d01347d4"
      },
      "source": [
        "#draw_histograms(company[\"Age\"])\n",
        "draw_histograms(res[0])\n",
        "draw_histograms(res[1])\n",
        "draw_histograms(company[\"Salary\"])"
      ],
      "execution_count": 26,
      "outputs": [
        {
          "output_type": "display_data",
          "data": {
            "image/png": "[encoded data removed]",
            "text/plain": [
              "<Figure size 1440x288 with 1 Axes>"
            ]
          },
          "metadata": {
            "tags": []
          }
        },
        {
          "output_type": "display_data",
          "data": {
            "image/png": "[encoded data removed]",
            "text/plain": [
              "<Figure size 1440x288 with 1 Axes>"
            ]
          },
          "metadata": {
            "tags": []
          }
        },
        {
          "output_type": "display_data",
          "data": {
            "image/png": "[encoded data removed]",
            "text/plain": [
              "<Figure size 1440x288 with 1 Axes>"
            ]
          },
          "metadata": {
            "tags": []
          }
        }
      ]
    },
    {
      "cell_type": "markdown",
      "metadata": {
        "id": "cETxiOk2JwFm",
        "colab_type": "text"
      },
      "source": [
        "## **Outline**\n",
        "### **1. Data Scaling**\n",
        "a)   Standardization (z-score scaling)\n",
        "\n",
        "b)   Normalization (min-max scaling)\n",
        "\n",
        "### **2. Data Binning**\n",
        "a)   Equal Depth Binning\n",
        "\n",
        "b)   Equal Width Binning\n",
        "\n",
        "### **3. Dealing with missing data**\n",
        "a)   Remove missing instances\n",
        "\n",
        "b)   Fill missing instances\n",
        "\n",
        "\n"
      ]
    }
  ]
}